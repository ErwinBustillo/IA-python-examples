{
 "cells": [
  {
   "cell_type": "code",
   "execution_count": 14,
   "metadata": {},
   "outputs": [],
   "source": [
    "import numpy as np"
   ]
  },
  {
   "cell_type": "markdown",
   "metadata": {},
   "source": [
    "### Create Data"
   ]
  },
  {
   "cell_type": "code",
   "execution_count": 15,
   "metadata": {},
   "outputs": [],
   "source": [
    "x = np.array([[0,0,1],[0,1,1],[1,0,1],[1,1,1]])\n",
    "y = np.array([[0,0,1,1]]).T"
   ]
  },
  {
   "cell_type": "code",
   "execution_count": 16,
   "metadata": {},
   "outputs": [
    {
     "name": "stdout",
     "output_type": "stream",
     "text": [
      "SHAPE OF DATA MATRIX(4, 3)\n",
      "SHAPE OF LABELS MATRIX(4, 1)\n"
     ]
    }
   ],
   "source": [
    "print('SHAPE OF DATA MATRIX{0}'.format(x.shape))\n",
    "print('SHAPE OF LABELS MATRIX{0}'.format(y.shape))"
   ]
  },
  {
   "cell_type": "markdown",
   "metadata": {},
   "source": [
    "### Define non-linear function"
   ]
  },
  {
   "cell_type": "code",
   "execution_count": 17,
   "metadata": {},
   "outputs": [],
   "source": [
    "def sigmoid(x):\n",
    "    return 1/(1+np.exp(-x))\n",
    "def sigmoid_gradient(x):\n",
    "    return x*(1-x)"
   ]
  },
  {
   "cell_type": "markdown",
   "metadata": {},
   "source": [
    "### PERFORM GRADIENT DESCENT"
   ]
  },
  {
   "cell_type": "markdown",
   "metadata": {},
   "source": [
    "#### INIT WEIGHTS VECTOR"
   ]
  },
  {
   "cell_type": "code",
   "execution_count": 18,
   "metadata": {},
   "outputs": [
    {
     "name": "stdout",
     "output_type": "stream",
     "text": [
      "weights vector shape: (3, 5)\n",
      "weights vector shape: (5, 1)\n"
     ]
    }
   ],
   "source": [
    "n=3\n",
    "m=5\n",
    "weights=np.random.random((n,m))\n",
    "weights2 = np.random.random((m,1))\n",
    "print ('weights vector shape: {0}'.format(weights.shape))\n",
    "print ('weights vector shape: {0}'.format(weights2.shape))"
   ]
  },
  {
   "cell_type": "code",
   "execution_count": 19,
   "metadata": {},
   "outputs": [
    {
     "name": "stdout",
     "output_type": "stream",
     "text": [
      "Epoch 0 - loss:0.3596\n",
      "Epoch 10 - loss:0.3511\n",
      "Epoch 20 - loss:0.3424\n",
      "Epoch 30 - loss:0.3335\n",
      "Epoch 40 - loss:0.3247\n",
      "Epoch 50 - loss:0.3160\n",
      "Epoch 60 - loss:0.3076\n",
      "Epoch 70 - loss:0.2997\n",
      "Epoch 80 - loss:0.2924\n",
      "Epoch 90 - loss:0.2857\n",
      "Epoch 100 - loss:0.2798\n",
      "Epoch 110 - loss:0.2746\n",
      "Epoch 120 - loss:0.2701\n",
      "Epoch 130 - loss:0.2662\n",
      "Epoch 140 - loss:0.2630\n",
      "Epoch 150 - loss:0.2603\n",
      "Epoch 160 - loss:0.2580\n",
      "Epoch 170 - loss:0.2562\n",
      "Epoch 180 - loss:0.2546\n",
      "Epoch 190 - loss:0.2533\n",
      "Epoch 200 - loss:0.2523\n",
      "Epoch 210 - loss:0.2514\n",
      "Epoch 220 - loss:0.2506\n",
      "Epoch 230 - loss:0.2499\n",
      "Epoch 240 - loss:0.2494\n",
      "Epoch 250 - loss:0.2489\n",
      "Epoch 260 - loss:0.2484\n",
      "Epoch 270 - loss:0.2480\n",
      "Epoch 280 - loss:0.2477\n",
      "Epoch 290 - loss:0.2473\n",
      "Epoch 300 - loss:0.2470\n",
      "Epoch 310 - loss:0.2467\n",
      "Epoch 320 - loss:0.2464\n",
      "Epoch 330 - loss:0.2461\n",
      "Epoch 340 - loss:0.2458\n",
      "Epoch 350 - loss:0.2456\n",
      "Epoch 360 - loss:0.2453\n",
      "Epoch 370 - loss:0.2450\n",
      "Epoch 380 - loss:0.2447\n",
      "Epoch 390 - loss:0.2445\n",
      "Epoch 400 - loss:0.2442\n",
      "Epoch 410 - loss:0.2439\n",
      "Epoch 420 - loss:0.2437\n",
      "Epoch 430 - loss:0.2434\n",
      "Epoch 440 - loss:0.2431\n",
      "Epoch 450 - loss:0.2429\n",
      "Epoch 460 - loss:0.2426\n",
      "Epoch 470 - loss:0.2423\n",
      "Epoch 480 - loss:0.2420\n",
      "Epoch 490 - loss:0.2417\n",
      "Epoch 500 - loss:0.2415\n",
      "Epoch 510 - loss:0.2412\n",
      "Epoch 520 - loss:0.2409\n",
      "Epoch 530 - loss:0.2406\n",
      "Epoch 540 - loss:0.2403\n",
      "Epoch 550 - loss:0.2400\n",
      "Epoch 560 - loss:0.2397\n",
      "Epoch 570 - loss:0.2394\n",
      "Epoch 580 - loss:0.2391\n",
      "Epoch 590 - loss:0.2388\n",
      "Epoch 600 - loss:0.2385\n",
      "Epoch 610 - loss:0.2381\n",
      "Epoch 620 - loss:0.2378\n",
      "Epoch 630 - loss:0.2375\n",
      "Epoch 640 - loss:0.2372\n",
      "Epoch 650 - loss:0.2368\n",
      "Epoch 660 - loss:0.2365\n",
      "Epoch 670 - loss:0.2361\n",
      "Epoch 680 - loss:0.2358\n",
      "Epoch 690 - loss:0.2354\n",
      "Epoch 700 - loss:0.2351\n",
      "Epoch 710 - loss:0.2347\n",
      "Epoch 720 - loss:0.2344\n",
      "Epoch 730 - loss:0.2340\n",
      "Epoch 740 - loss:0.2336\n",
      "Epoch 750 - loss:0.2333\n",
      "Epoch 760 - loss:0.2329\n",
      "Epoch 770 - loss:0.2325\n",
      "Epoch 780 - loss:0.2321\n",
      "Epoch 790 - loss:0.2317\n",
      "Epoch 800 - loss:0.2313\n",
      "Epoch 810 - loss:0.2309\n",
      "Epoch 820 - loss:0.2305\n",
      "Epoch 830 - loss:0.2300\n",
      "Epoch 840 - loss:0.2296\n",
      "Epoch 850 - loss:0.2292\n",
      "Epoch 860 - loss:0.2287\n",
      "Epoch 870 - loss:0.2283\n",
      "Epoch 880 - loss:0.2278\n",
      "Epoch 890 - loss:0.2274\n",
      "Epoch 900 - loss:0.2269\n",
      "Epoch 910 - loss:0.2265\n",
      "Epoch 920 - loss:0.2260\n",
      "Epoch 930 - loss:0.2255\n",
      "Epoch 940 - loss:0.2250\n",
      "Epoch 950 - loss:0.2245\n",
      "Epoch 960 - loss:0.2240\n",
      "Epoch 970 - loss:0.2235\n",
      "Epoch 980 - loss:0.2230\n",
      "Epoch 990 - loss:0.2224\n"
     ]
    }
   ],
   "source": [
    "num_epoch =1000\n",
    "step_size=1E-2\n",
    "for epoch in range(num_epoch): \n",
    "    \n",
    "    layer_1 =sigmoid(np.dot(x,weights))\n",
    "    \n",
    "    layer_2 = sigmoid(np.dot(layer_1, weights2))\n",
    "    \n",
    "    loss =(np.power(layer_2 - y, 2)).mean()\n",
    "    \n",
    "    dL_dc = sigmoid_gradient(layer_2) * 2 * (layer_2 - y)\n",
    "    dL_db = np.dot(dL_dc, weights2.T)\n",
    "    dL_da = dL_db * sigmoid_gradient(layer_1)\n",
    "    \n",
    "    grad_weights2 = np.dot(layer_1.T, dL_dc)\n",
    "    grad_weights =np.dot(x.T, dL_da)\n",
    "    \n",
    "    weights -= step_size * grad_weights\n",
    "    weights2 -= step_size * grad_weights2\n",
    "    \n",
    "    if epoch %10 == 0:\n",
    "        print('Epoch %d - loss:%.4f' % (epoch,loss))"
   ]
  },
  {
   "cell_type": "markdown",
   "metadata": {},
   "source": [
    "### Conclusions\n",
    "After realizing this task, we could observe well-known changes between the use of a neural network of 1 layer, and another one of 2 layers.\n",
    "\n",
    "For example: when working on a neural network of a single layer with the assigned task, it is possible to observe that it needs fewer calculations to estimate the gradient of loss, but it losses precision in the results of the function of loss regarding the real value.\n",
    "\n",
    "On the other hand, when we work with 2 layers the precision factor increases. Nevertheless, more calculations are required to diminish the function of loss, not to mention it becomes slower since the number of operations to reach the real value increases.\n",
    "\n",
    "Other factors that were checked were that the neural network of 2 layers consumes more resources like memory and time than with a network of 1 layer. Also, its level of complexity at the moment of implementing this number of layers is bigger than with 1 layer.\n"
   ]
  }
 ],
 "metadata": {
  "kernelspec": {
   "display_name": "Python 3",
   "language": "python",
   "name": "python3"
  },
  "language_info": {
   "codemirror_mode": {
    "name": "ipython",
    "version": 3
   },
   "file_extension": ".py",
   "mimetype": "text/x-python",
   "name": "python",
   "nbconvert_exporter": "python",
   "pygments_lexer": "ipython3",
   "version": "3.6.3"
  }
 },
 "nbformat": 4,
 "nbformat_minor": 2
}
